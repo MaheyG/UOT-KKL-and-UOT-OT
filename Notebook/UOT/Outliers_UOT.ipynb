{
 "cells": [
  {
   "cell_type": "code",
   "execution_count": 1,
   "id": "4bf252e3-7014-4c1a-8239-8b276ffc2249",
   "metadata": {},
   "outputs": [],
   "source": [
    "import numpy as np\n",
    "import torch\n",
    "import matplotlib.pylab as pl\n",
    "import ot\n",
    "import ot.plot\n",
    "import pylab\n",
    "import math"
   ]
  },
  {
   "cell_type": "code",
   "execution_count": 6,
   "id": "f63c86fd-13e1-4bcc-af96-b03b02a83d8d",
   "metadata": {},
   "outputs": [],
   "source": [
    "import sys\n",
    "sys.path.append('../../code/')\n",
    "from generate_data import make_data"
   ]
  },
  {
   "cell_type": "code",
   "execution_count": 7,
   "id": "92591192-1d53-4647-8ad9-2e9df7d8172a",
   "metadata": {},
   "outputs": [],
   "source": [
    "def plot2D_samples_mat2(xs, xt, G, thr=1e-8, **kwargs):\n",
    "\n",
    "    if ('color' not in kwargs) and ('c' not in kwargs):\n",
    "        kwargs['color'] = 'k'\n",
    "    mx = G.max()\n",
    "    if 'alpha' in kwargs:\n",
    "        scale = kwargs['alpha']\n",
    "        del kwargs['alpha']\n",
    "    else:\n",
    "        scale = 1\n",
    "    for i in range(xs.shape[0]):\n",
    "        for j in range(xt.shape[0]):\n",
    "            if G[i, j] / mx > thr:\n",
    "                pl.plot([xs[i, 0], xt[j, 0]], [xs[i, 1], xt[j, 1]],\n",
    "                        alpha=G[i, j]/ mx, **kwargs)"
   ]
  },
  {
   "cell_type": "code",
   "execution_count": 8,
   "id": "704b554b-c7cd-47bd-a4f2-e5f389fa942a",
   "metadata": {},
   "outputs": [],
   "source": [
    "def sinkhorn(a,b,C,lam=50,eps=1,numiter=500,pen=None,lam2=None,thr=1e-5):\n",
    "    u_old=a\n",
    "    v_old=b\n",
    "    u=a\n",
    "    G=torch.exp(-C/eps) #Gibbs Kernel\n",
    "    uy=G.T@u\n",
    "    ux=None\n",
    "    \n",
    "    if lam2 is None:\n",
    "        lam2=lam\n",
    "        \n",
    "    for i in range(numiter):\n",
    "        if pen is None:\n",
    "            prox=b\n",
    "        elif pen==\"kl\":\n",
    "            prox=prox_KL(G.T@u,b,lam2,eps)                     \n",
    "        v=prox/(G.T@u)\n",
    "        \n",
    "        if pen is None:\n",
    "            prox=a\n",
    "        elif pen==\"kl\":\n",
    "            prox=prox_KL(G@v,a,lam,eps)\n",
    "        u=prox/(G@v)\n",
    "    \n",
    "        if (torch.norm(u_old-u)+torch.norm(v-v_old))<thr: #If convergences early stop\n",
    "                P=u.reshape((-1, 1)) * G * v.reshape((1, -1))\n",
    "                return P\n",
    "        else:\n",
    "            u_old=u\n",
    "            v_old=v\n",
    "    P=u.reshape((-1, 1)) * G * v.reshape((1, -1))\n",
    "    return P\n",
    "\n",
    "\n",
    "      \n",
    "def prox_KL(Gu,b,lam,eps):\n",
    "    gam1=lam/(eps+lam)\n",
    "    gam2=eps/(eps+lam)\n",
    "    return (Gu**gam2)*(b**gam1)"
   ]
  },
  {
   "cell_type": "code",
   "execution_count": 9,
   "id": "40b28c16-5bb5-499d-be2a-e429755ce073",
   "metadata": {},
   "outputs": [],
   "source": [
    "bl=\"#4A90E2\"\n",
    "o='#F5A623'\n",
    "v=\"#7ED321\""
   ]
  },
  {
   "cell_type": "code",
   "execution_count": 10,
   "id": "21aacb46-f56f-44b2-b072-a28f3d37c963",
   "metadata": {},
   "outputs": [
    {
     "data": {
      "text/plain": [
       "<matplotlib.legend.Legend at 0x7fe2d3557e20>"
      ]
     },
     "execution_count": 10,
     "metadata": {},
     "output_type": "execute_result"
    },
    {
     "data": {
      "image/png": "[encoded data removed]",
      "text/plain": [
       "<Figure size 216x216 with 1 Axes>"
      ]
     },
     "metadata": {
      "needs_background": "light"
     },
     "output_type": "display_data"
    }
   ],
   "source": [
    "ns=4\n",
    "nt=4\n",
    "dim=2\n",
    "\n",
    "\n",
    "torch.manual_seed(0)\n",
    "np.random.seed(1)\n",
    "X,_=make_data(\"gaussians\",ns,dim)\n",
    "_,Y=make_data(\"gaussians\",nt,dim)\n",
    "\n",
    "pl.figure(figsize=(3,3))\n",
    "pl.scatter(X[:, 0], X[:, 1], c='C0', label='Source')\n",
    "pl.scatter(Y[:, 0], Y[:, 1], c='C1', label='Target')\n",
    "pl.legend(loc=2)"
   ]
  },
  {
   "cell_type": "code",
   "execution_count": 11,
   "id": "9217522e-7949-4e0c-808a-8253d59fbbee",
   "metadata": {},
   "outputs": [
    {
     "data": {
      "text/plain": [
       "tensor(1.2063)"
      ]
     },
     "execution_count": 11,
     "metadata": {},
     "output_type": "execute_result"
    }
   ],
   "source": [
    "a, b = torch.ones((ns,)) / ns, torch.ones((nt,)) / nt \n",
    "C=ot.dist(X,Y)\n",
    "C/=C.max()\n",
    "\n",
    "P_KL= sinkhorn(a,b,C,lam=5e-2,eps=1e-2,numiter=500,pen=\"kl\")*8\n",
    "torch.sum(P_KL)"
   ]
  },
  {
   "cell_type": "code",
   "execution_count": 13,
   "id": "3e2ccfc7-146a-465a-81d7-90277cff024c",
   "metadata": {},
   "outputs": [
    {
     "name": "stderr",
     "output_type": "stream",
     "text": [
      "/tmp/ipykernel_7817/3299181473.py:14: UserWarning: This figure includes Axes that are not compatible with tight_layout, so results might be incorrect.\n",
      "  pl.tight_layout()\n"
     ]
    },
    {
     "data": {
      "image/png": "[encoded data removed]",
      "text/plain": [
       "<Figure size 360x216 with 1 Axes>"
      ]
     },
     "metadata": {
      "needs_background": "light"
     },
     "output_type": "display_data"
    }
   ],
   "source": [
    "s=1e2\n",
    "pl.figure(figsize=(5,3))\n",
    "grid = pl.GridSpec(1, 1, wspace=0.4, hspace=0.5)\n",
    "\n",
    "pl.subplot(grid[0,0])   \n",
    "plot2D_samples_mat2(X,Y,P_KL.numpy(), c=v)\n",
    "pl.scatter(X[:, 0], X[:, 1],c=bl, label='Source samples',s=torch.sum(P_KL,axis=1)*s)\n",
    "pl.scatter(Y[:, 0], Y[:, 1], c=o, label='Target samples',s=torch.sum(P_KL,axis=0)*s)\n",
    "pl.scatter(X[:, 0], X[:, 1],c=bl, label='Source samples',s=s,alpha=0.2)\n",
    "pl.scatter(Y[:, 0], Y[:, 1], c=o, label='Target samples',s=s,alpha=0.2)\n",
    "pl.axis(\"off\")\n",
    "\n",
    "\n",
    "pl.tight_layout()\n",
    "pl.savefig(\"../../Figures/UOT/UOT_KL_Sinkhorn.pdf\",bbox_inches='tight')"
   ]
  },
  {
   "cell_type": "code",
   "execution_count": 11,
   "id": "e8bc1b32-8d25-4631-ba50-a0c24a44b9ad",
   "metadata": {},
   "outputs": [],
   "source": [
    "# Lasso"
   ]
  },
  {
   "cell_type": "code",
   "execution_count": 12,
   "id": "bd212c83-bc8c-4476-8f53-79c3b5cea4a1",
   "metadata": {},
   "outputs": [],
   "source": [
    "final_gamma = 1e-3\n",
    "t, t_list, g_list = ot.regpath.regularization_path(a.numpy(), b.numpy(), C.numpy(), reg=final_gamma,\n",
    "                                                   semi_relaxed=False)"
   ]
  },
  {
   "cell_type": "code",
   "execution_count": 13,
   "id": "33ecf4c0-ca89-449e-9ddb-2bcc56890024",
   "metadata": {},
   "outputs": [],
   "source": [
    "g_list2=np.zeros(len(g_list))\n",
    "t_list2=np.zeros((ns,nt,len(g_list)))\n",
    "for i in range(len(g_list)):\n",
    "    t_list2[:,:,i]=t_list[i].reshape((ns,nt))\n",
    "    g_list2[i]=np.log(1/g_list[i])\n",
    "g_list3=g_list2-g_list2.min()+1"
   ]
  },
  {
   "cell_type": "code",
   "execution_count": 14,
   "id": "959c19da-d3c1-486a-9939-2a20f993629e",
   "metadata": {},
   "outputs": [],
   "source": [
    "for i in range(1,len(g_list)-1):\n",
    "    for j in range(ns):\n",
    "        for k in range(nt):\n",
    "            if t_list2[j,k,i]==0 and t_list2[j,k,i+1]==0:\n",
    "                t_list2[j,k,i] = np.nan"
   ]
  },
  {
   "cell_type": "code",
   "execution_count": 15,
   "id": "406e5dc9-65a0-4f60-9a59-f21506b83937",
   "metadata": {},
   "outputs": [],
   "source": [
    "g_list4=[g_list3[0],g_list3[1],g_list3[2],g_list3[3],g_list3[10],g_list3[11]]\n",
    "g_list5=[g_list2[0],g_list2[1],g_list2[2],g_list2[3],g_list2[10],g_list2[11]]\n",
    "for i in range(len(g_list5)):\n",
    "    g_list5[i]=\"{:.0e}\".format(np.exp(g_list5[i]))"
   ]
  },
  {
   "cell_type": "code",
   "execution_count": 17,
   "id": "db762a0f-0195-40d3-9c28-b6a793a65cab",
   "metadata": {},
   "outputs": [
    {
     "data": {
      "text/plain": [
       "([1.0,\n",
       "  1.1658395471309198,\n",
       "  1.471465937259254,\n",
       "  2.181257429980468,\n",
       "  3.405390981464884,\n",
       "  9.249987622724463],\n",
       " ['3e-01', '3e-01', '4e-01', '9e-01', '3e+00', '1e+03'])"
      ]
     },
     "execution_count": 17,
     "metadata": {},
     "output_type": "execute_result"
    }
   ],
   "source": [
    "g_list4,g_list5"
   ]
  },
  {
   "cell_type": "code",
   "execution_count": 18,
   "id": "60f35ac5-13e9-4fdc-a623-aa24cf955ecd",
   "metadata": {},
   "outputs": [
    {
     "data": {
      "image/png": "[encoded data removed]",
      "text/plain": [
       "<Figure size 576x216 with 1 Axes>"
      ]
     },
     "metadata": {
      "needs_background": "light"
     },
     "output_type": "display_data"
    }
   ],
   "source": [
    "s=1e2\n",
    "fig=pl.figure(figsize=(8,3))\n",
    "ax = pl.axes() \n",
    "for i in range(ns):\n",
    "    for j in range(nt):\n",
    "        pl.plot(g_list3,t_list2[i,j,:],linewidth=2.8)\n",
    "for i in range(len(g_list)):\n",
    "    pl.axvline(x=g_list3[i], c=\"k\", linewidth=1,alpha=.1)\n",
    "    \n",
    "pl.axhline(y=0, color='k', linestyle='-')\n",
    "pl.xscale('log')\n",
    "ax.minorticks_off()\n",
    "ax.set_xticks(g_list4)\n",
    "ax.set_xticklabels(g_list5)\n",
    "\n",
    "pl.xlim(.98,9.5)\n",
    "pl.xlabel(\"$\\lambda$\",size=30)\n",
    "pl.ylabel(\"$\\pi_{ij}$\",size=30)\n",
    "\n",
    "pl.tight_layout()\n",
    "#pl.savefig(\"./Figures/UOT_l2_Lasso.pdf\",bbox_inches='tight')"
   ]
  },
  {
   "cell_type": "code",
   "execution_count": null,
   "id": "fa83ecfd-9e39-487a-903a-0c0048564c2d",
   "metadata": {},
   "outputs": [],
   "source": []
  }
 ],
 "metadata": {
  "kernelspec": {
   "display_name": "Python 3 (ipykernel)",
   "language": "python",
   "name": "python3"
  },
  "language_info": {
   "codemirror_mode": {
    "name": "ipython",
    "version": 3
   },
   "file_extension": ".py",
   "mimetype": "text/x-python",
   "name": "python",
   "nbconvert_exporter": "python",
   "pygments_lexer": "ipython3",
   "version": "3.10.12"
  }
 },
 "nbformat": 4,
 "nbformat_minor": 5
}
